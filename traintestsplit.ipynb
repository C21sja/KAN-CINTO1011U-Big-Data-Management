{
 "cells": [
  {
   "cell_type": "code",
   "execution_count": 1,
   "metadata": {},
   "outputs": [],
   "source": [
    "#Create a 70/30 test/train split in seperate files for the JobApplicants.csv file\n",
    "import pandas as pd\n",
    "import sklearn"
   ]
  },
  {
   "cell_type": "code",
   "execution_count": 5,
   "metadata": {},
   "outputs": [],
   "source": [
    "# Import the train_test_split function directly\n",
    "from sklearn.model_selection import train_test_split\n",
    "\n",
    "# Create a 70/30 test/train split in separate files for the JobApplicants.csv file\n",
    "df = pd.read_csv('JobApplicants.csv')\n",
    "df_train, df_test = train_test_split(df, train_size=0.7, test_size=0.3, random_state=42)\n",
    "df_train.to_csv('Train.csv', index=False)\n",
    "df_test.to_csv('Test.csv', index=False)"
   ]
  }
 ],
 "metadata": {
  "kernelspec": {
   "display_name": "Python 3",
   "language": "python",
   "name": "python3"
  },
  "language_info": {
   "codemirror_mode": {
    "name": "ipython",
    "version": 3
   },
   "file_extension": ".py",
   "mimetype": "text/x-python",
   "name": "python",
   "nbconvert_exporter": "python",
   "pygments_lexer": "ipython3",
   "version": "3.11.2"
  }
 },
 "nbformat": 4,
 "nbformat_minor": 2
}
