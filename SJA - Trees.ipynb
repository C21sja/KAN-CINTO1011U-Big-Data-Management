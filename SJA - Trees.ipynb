{
 "cells": [
  {
   "cell_type": "code",
   "execution_count": 32,
   "metadata": {},
   "outputs": [],
   "source": [
    "import pandas as pd\n",
    "import numpy as np\n",
    "import matplotlib.pyplot as plt\n",
    "import seaborn as sns\n",
    "%pip install mglearn\n",
    "import mglearn"
   ]
  },
  {
   "cell_type": "code",
   "execution_count": null,
   "metadata": {},
   "outputs": [],
   "source": [
    "#Open JobApplicants.csv file\n",
    "df = pd.read_csv('Train.csv')"
   ]
  },
  {
   "cell_type": "code",
   "execution_count": null,
   "metadata": {},
   "outputs": [
    {
     "data": {
      "text/html": [
       "<div>\n",
       "<style scoped>\n",
       "    .dataframe tbody tr th:only-of-type {\n",
       "        vertical-align: middle;\n",
       "    }\n",
       "\n",
       "    .dataframe tbody tr th {\n",
       "        vertical-align: top;\n",
       "    }\n",
       "\n",
       "    .dataframe thead th {\n",
       "        text-align: right;\n",
       "    }\n",
       "</style>\n",
       "<table border=\"1\" class=\"dataframe\">\n",
       "  <thead>\n",
       "    <tr style=\"text-align: right;\">\n",
       "      <th></th>\n",
       "      <th>Unnamed: 0</th>\n",
       "      <th>w</th>\n",
       "      <th>Age</th>\n",
       "      <th>Accessibility</th>\n",
       "      <th>EdLevel</th>\n",
       "      <th>Employment</th>\n",
       "      <th>Gender</th>\n",
       "      <th>MentalHealth</th>\n",
       "      <th>MainBranch</th>\n",
       "      <th>YearsCode</th>\n",
       "      <th>YearsCodePro</th>\n",
       "      <th>Country</th>\n",
       "      <th>PreviousSalary</th>\n",
       "      <th>HaveWorkedWith</th>\n",
       "      <th>ComputerSkills</th>\n",
       "      <th>Employed</th>\n",
       "    </tr>\n",
       "  </thead>\n",
       "  <tbody>\n",
       "    <tr>\n",
       "      <th>0</th>\n",
       "      <td>35381</td>\n",
       "      <td>35381</td>\n",
       "      <td>&gt;35</td>\n",
       "      <td>Yes</td>\n",
       "      <td>Other</td>\n",
       "      <td>1</td>\n",
       "      <td>Man</td>\n",
       "      <td>Yes</td>\n",
       "      <td>NotDev</td>\n",
       "      <td>35</td>\n",
       "      <td>15</td>\n",
       "      <td>United Kingdom of Great Britain and Northern I...</td>\n",
       "      <td>77556.0</td>\n",
       "      <td>C;C++;Go;PowerShell;Python;Ansible;Chef;Docker...</td>\n",
       "      <td>16</td>\n",
       "      <td>0</td>\n",
       "    </tr>\n",
       "    <tr>\n",
       "      <th>1</th>\n",
       "      <td>1453</td>\n",
       "      <td>1453</td>\n",
       "      <td>&gt;35</td>\n",
       "      <td>No</td>\n",
       "      <td>PhD</td>\n",
       "      <td>0</td>\n",
       "      <td>Man</td>\n",
       "      <td>No</td>\n",
       "      <td>Dev</td>\n",
       "      <td>35</td>\n",
       "      <td>30</td>\n",
       "      <td>United Kingdom of Great Britain and Northern I...</td>\n",
       "      <td>124092.0</td>\n",
       "      <td>C#;HTML/CSS;LISP;ASP.NET Core ;jQuery;Microsof...</td>\n",
       "      <td>7</td>\n",
       "      <td>1</td>\n",
       "    </tr>\n",
       "    <tr>\n",
       "      <th>2</th>\n",
       "      <td>24572</td>\n",
       "      <td>24572</td>\n",
       "      <td>&lt;35</td>\n",
       "      <td>No</td>\n",
       "      <td>Master</td>\n",
       "      <td>1</td>\n",
       "      <td>NonBinary</td>\n",
       "      <td>Yes</td>\n",
       "      <td>Dev</td>\n",
       "      <td>18</td>\n",
       "      <td>2</td>\n",
       "      <td>Denmark</td>\n",
       "      <td>78672.0</td>\n",
       "      <td>Bash/Shell;HTML/CSS;Java;JavaScript;Python;SQL...</td>\n",
       "      <td>12</td>\n",
       "      <td>1</td>\n",
       "    </tr>\n",
       "    <tr>\n",
       "      <th>3</th>\n",
       "      <td>42014</td>\n",
       "      <td>42014</td>\n",
       "      <td>&lt;35</td>\n",
       "      <td>No</td>\n",
       "      <td>Undergraduate</td>\n",
       "      <td>1</td>\n",
       "      <td>Man</td>\n",
       "      <td>Yes</td>\n",
       "      <td>Dev</td>\n",
       "      <td>10</td>\n",
       "      <td>1</td>\n",
       "      <td>France</td>\n",
       "      <td>44790.0</td>\n",
       "      <td>Rust;Docker;Kubernetes;AWS;Google Cloud;MongoD...</td>\n",
       "      <td>7</td>\n",
       "      <td>0</td>\n",
       "    </tr>\n",
       "    <tr>\n",
       "      <th>4</th>\n",
       "      <td>26711</td>\n",
       "      <td>26711</td>\n",
       "      <td>&gt;35</td>\n",
       "      <td>No</td>\n",
       "      <td>Master</td>\n",
       "      <td>0</td>\n",
       "      <td>Man</td>\n",
       "      <td>No</td>\n",
       "      <td>Dev</td>\n",
       "      <td>21</td>\n",
       "      <td>17</td>\n",
       "      <td>United Kingdom of Great Britain and Northern I...</td>\n",
       "      <td>155112.0</td>\n",
       "      <td>C#;HTML/CSS;JavaScript;Node.js;SQL;TypeScript;...</td>\n",
       "      <td>16</td>\n",
       "      <td>1</td>\n",
       "    </tr>\n",
       "  </tbody>\n",
       "</table>\n",
       "</div>"
      ],
      "text/plain": [
       "   Unnamed: 0      w  Age Accessibility        EdLevel  Employment     Gender  \\\n",
       "0       35381  35381  >35           Yes          Other           1        Man   \n",
       "1        1453   1453  >35            No            PhD           0        Man   \n",
       "2       24572  24572  <35            No         Master           1  NonBinary   \n",
       "3       42014  42014  <35            No  Undergraduate           1        Man   \n",
       "4       26711  26711  >35            No         Master           0        Man   \n",
       "\n",
       "  MentalHealth MainBranch  YearsCode  YearsCodePro  \\\n",
       "0          Yes     NotDev         35            15   \n",
       "1           No        Dev         35            30   \n",
       "2          Yes        Dev         18             2   \n",
       "3          Yes        Dev         10             1   \n",
       "4           No        Dev         21            17   \n",
       "\n",
       "                                             Country  PreviousSalary  \\\n",
       "0  United Kingdom of Great Britain and Northern I...         77556.0   \n",
       "1  United Kingdom of Great Britain and Northern I...        124092.0   \n",
       "2                                            Denmark         78672.0   \n",
       "3                                             France         44790.0   \n",
       "4  United Kingdom of Great Britain and Northern I...        155112.0   \n",
       "\n",
       "                                      HaveWorkedWith  ComputerSkills  Employed  \n",
       "0  C;C++;Go;PowerShell;Python;Ansible;Chef;Docker...              16         0  \n",
       "1  C#;HTML/CSS;LISP;ASP.NET Core ;jQuery;Microsof...               7         1  \n",
       "2  Bash/Shell;HTML/CSS;Java;JavaScript;Python;SQL...              12         1  \n",
       "3  Rust;Docker;Kubernetes;AWS;Google Cloud;MongoD...               7         0  \n",
       "4  C#;HTML/CSS;JavaScript;Node.js;SQL;TypeScript;...              16         1  "
      ]
     },
     "execution_count": 24,
     "metadata": {},
     "output_type": "execute_result"
    }
   ],
   "source": [
    "df.head()"
   ]
  },
  {
   "cell_type": "code",
   "execution_count": null,
   "metadata": {},
   "outputs": [],
   "source": [
    "df.drop(['MentalHealth'], axis=1, inplace=True)"
   ]
  },
  {
   "cell_type": "code",
   "execution_count": null,
   "metadata": {},
   "outputs": [
    {
     "name": "stderr",
     "output_type": "stream",
     "text": [
      "C:\\Users\\Simon\\AppData\\Local\\Temp\\ipykernel_9012\\1276420888.py:2: FutureWarning: The default value of numeric_only in DataFrame.corr is deprecated. In a future version, it will default to False. Select only valid columns or specify the value of numeric_only to silence this warning.\n",
      "  df.corr()['Employed'].sort_values()\n"
     ]
    },
    {
     "data": {
      "text/plain": [
       "Employment       -0.010255\n",
       "YearsCode        -0.008982\n",
       "YearsCodePro     -0.001812\n",
       "PreviousSalary    0.002171\n",
       "Unnamed: 0        0.071393\n",
       "w                 0.071393\n",
       "ComputerSkills    0.586196\n",
       "Employed          1.000000\n",
       "Name: Employed, dtype: float64"
      ]
     },
     "execution_count": 26,
     "metadata": {},
     "output_type": "execute_result"
    }
   ],
   "source": [
    "#What correlates the most with \"employed\" column?\n",
    "df.corr()['Employed'].sort_values()"
   ]
  },
  {
   "cell_type": "code",
   "execution_count": null,
   "metadata": {},
   "outputs": [],
   "source": [
    "# Identify categorical and numerical columns\n",
    "categorical_cols = ['Age', 'EdLevel', 'Gender', 'MainBranch']\n",
    "numerical_cols = ['YearsCode', 'YearsCodePro', 'PreviousSalary', 'ComputerSkills']\n",
    "#Why was it so weird if I use the under written code???\n",
    "#numerical_cols.extend(['WW ' + language for language in unique_languages])\n",
    "#Take WW out of array because it does not contain anything\n",
    "#numerical_cols.remove('WW ')\n",
    "#print(numerical_cols)\n",
    "\n",
    "\n",
    "# Defining the feature matrix X by selecting all columns except Employed \n",
    "X = lr[categorical_cols + numerical_cols]  \n",
    "#X = df.drop(columns=['Employed'])# axis=1 refers to columns\n",
    "# Defining the target variable y by selecting only the 'Employed' column\n",
    "y = lr['Employed']"
   ]
  },
  {
   "cell_type": "markdown",
   "metadata": {},
   "source": [
    "# Random forest"
   ]
  },
  {
   "cell_type": "code",
   "execution_count": null,
   "metadata": {},
   "outputs": [],
   "source": [
    "from sklearn.ensemble import RandomForestClassifier\n",
    "from sklearn.metrics import accuracy_score\n",
    "from sklearn.metrics import f1_score, precision_score, recall_score "
   ]
  },
  {
   "cell_type": "code",
   "execution_count": null,
   "metadata": {},
   "outputs": [],
   "source": [
    "# Handle Categorical Variables with One-Hot Encoding\n",
    "rf = pd.get_dummies(df, columns=[\"Age\", \"Accessibility\", \"EdLevel\", \"Gender\", \"Country\"], drop_first=True)\n",
    "\n",
    "# Remove non-numeric columns or columns that are not relevant for modeling\n",
    "# Faktummet at vi fjerner computerskills er også godt da det er en aggregat \n",
    "rf = rf.drop(columns=[\"MainBranch\", \"ComputerSkills\"])"
   ]
  },
  {
   "cell_type": "code",
   "execution_count": null,
   "metadata": {},
   "outputs": [
    {
     "name": "stdout",
     "output_type": "stream",
     "text": [
      "Accuracy: 0.853577748536685\n",
      "F1 Score: 0.8687197428908506\n",
      "Precision: 0.8348580811634999\n",
      "Recall: 0.905444369063772\n"
     ]
    }
   ],
   "source": [
    "# Assuming \"Employed\" is the target variable, and the other columns are features\n",
    "X = rf.drop(\"Employed\", axis=1)  # Features\n",
    "y = rf[\"Employed\"]  # Target variable\n",
    "\n",
    "# Split the data into training and testing sets\n",
    "X_train, X_test, y_train, y_test = train_test_split(X, y, test_size=0.3, random_state=42)\n",
    "\n",
    "# Create a Random Forest model (for classification)\n",
    "rf_model = RandomForestClassifier(n_estimators=100, random_state=42, max_depth=3)\n",
    "\n",
    "# Fit the model on the training data\n",
    "rf_model.fit(X_train, y_train)\n",
    "\n",
    "# Make predictions on the test data\n",
    "y_pred = rf_model.predict(X_test)\n",
    "\n",
    "# Evaluate the model (for classification, you can use metrics like accuracy)\n",
    "accuracy = accuracy_score(y_test, y_pred)\n",
    "f1 = f1_score(y_test, y_pred)\n",
    "precision = precision_score(y_test, y_pred)\n",
    "recall = recall_score(y_test, y_pred)\n",
    "print(f\"Accuracy: {accuracy}\")\n",
    "print(f\"F1 Score: {f1}\")\n",
    "print(f\"Precision: {precision}\")\n",
    "print(f\"Recall: {recall}\")"
   ]
  },
  {
   "cell_type": "code",
   "execution_count": null,
   "metadata": {},
   "outputs": [],
   "source": [
    "from sklearn.model_selection import GridSearchCV\n",
    "from sklearn.ensemble import RandomForestClassifier\n",
    "\n",
    "# Define the hyperparameters and their possible values\n",
    "param_grid = {\n",
    "    'n_estimators': [50, 100, 200],\n",
    "    'max_depth': [None, 10, 20],\n",
    "    'min_samples_split': [2, 5, 10],\n",
    "    'min_samples_leaf': [1, 2, 4]\n",
    "}\n",
    "\n",
    "# Create a GridSearchCV object\n",
    "grid_search = GridSearchCV(RandomForestClassifier(random_state=42), param_grid, cv=5, scoring='f1')\n",
    "\n",
    "# Fit the grid search to your data\n",
    "grid_search.fit(X_train, y_train)\n",
    "\n",
    "# Get the best parameters and model\n",
    "best_params = grid_search.best_params_\n",
    "best_model = grid_search.best_estimator_\n"
   ]
  }
 ],
 "metadata": {
  "kernelspec": {
   "display_name": "Python 3",
   "language": "python",
   "name": "python3"
  },
  "language_info": {
   "codemirror_mode": {
    "name": "ipython",
    "version": 3
   },
   "file_extension": ".py",
   "mimetype": "text/x-python",
   "name": "python",
   "nbconvert_exporter": "python",
   "pygments_lexer": "ipython3",
   "version": "3.11.2"
  }
 },
 "nbformat": 4,
 "nbformat_minor": 2
}
