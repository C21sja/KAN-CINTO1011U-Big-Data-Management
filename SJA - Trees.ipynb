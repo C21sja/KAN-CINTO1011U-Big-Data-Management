{
 "cells": [
  {
   "cell_type": "code",
   "execution_count": 307,
   "metadata": {},
   "outputs": [],
   "source": [
    "import pandas as pd\n",
    "import numpy as np\n",
    "import matplotlib.pyplot as plt\n",
    "import seaborn as sns"
   ]
  },
  {
   "cell_type": "code",
   "execution_count": 308,
   "metadata": {},
   "outputs": [],
   "source": [
    "# Load the training data\n",
    "df_train = pd.read_csv('Train.csv')\n",
    "# Load the test data\n",
    "df_test = pd.read_csv('Test.csv')"
   ]
  },
  {
   "cell_type": "code",
   "execution_count": 309,
   "metadata": {},
   "outputs": [
    {
     "data": {
      "text/html": [
       "<div>\n",
       "<style scoped>\n",
       "    .dataframe tbody tr th:only-of-type {\n",
       "        vertical-align: middle;\n",
       "    }\n",
       "\n",
       "    .dataframe tbody tr th {\n",
       "        vertical-align: top;\n",
       "    }\n",
       "\n",
       "    .dataframe thead th {\n",
       "        text-align: right;\n",
       "    }\n",
       "</style>\n",
       "<table border=\"1\" class=\"dataframe\">\n",
       "  <thead>\n",
       "    <tr style=\"text-align: right;\">\n",
       "      <th></th>\n",
       "      <th>w</th>\n",
       "      <th>Age</th>\n",
       "      <th>Accessibility</th>\n",
       "      <th>EdLevel</th>\n",
       "      <th>Employment</th>\n",
       "      <th>Gender</th>\n",
       "      <th>MentalHealth</th>\n",
       "      <th>MainBranch</th>\n",
       "      <th>YearsCode</th>\n",
       "      <th>YearsCodePro</th>\n",
       "      <th>Country</th>\n",
       "      <th>PreviousSalary</th>\n",
       "      <th>HaveWorkedWith</th>\n",
       "      <th>ComputerSkills</th>\n",
       "      <th>Employed</th>\n",
       "    </tr>\n",
       "  </thead>\n",
       "  <tbody>\n",
       "    <tr>\n",
       "      <th>0</th>\n",
       "      <td>35381</td>\n",
       "      <td>&gt;35</td>\n",
       "      <td>Yes</td>\n",
       "      <td>Other</td>\n",
       "      <td>1</td>\n",
       "      <td>Man</td>\n",
       "      <td>Yes</td>\n",
       "      <td>NotDev</td>\n",
       "      <td>35</td>\n",
       "      <td>15</td>\n",
       "      <td>United Kingdom of Great Britain and Northern I...</td>\n",
       "      <td>77556.0</td>\n",
       "      <td>C;C++;Go;PowerShell;Python;Ansible;Chef;Docker...</td>\n",
       "      <td>16</td>\n",
       "      <td>0</td>\n",
       "    </tr>\n",
       "    <tr>\n",
       "      <th>1</th>\n",
       "      <td>1453</td>\n",
       "      <td>&gt;35</td>\n",
       "      <td>No</td>\n",
       "      <td>PhD</td>\n",
       "      <td>0</td>\n",
       "      <td>Man</td>\n",
       "      <td>No</td>\n",
       "      <td>Dev</td>\n",
       "      <td>35</td>\n",
       "      <td>30</td>\n",
       "      <td>United Kingdom of Great Britain and Northern I...</td>\n",
       "      <td>124092.0</td>\n",
       "      <td>C#;HTML/CSS;LISP;ASP.NET Core ;jQuery;Microsof...</td>\n",
       "      <td>7</td>\n",
       "      <td>1</td>\n",
       "    </tr>\n",
       "    <tr>\n",
       "      <th>2</th>\n",
       "      <td>24572</td>\n",
       "      <td>&lt;35</td>\n",
       "      <td>No</td>\n",
       "      <td>Master</td>\n",
       "      <td>1</td>\n",
       "      <td>NonBinary</td>\n",
       "      <td>Yes</td>\n",
       "      <td>Dev</td>\n",
       "      <td>18</td>\n",
       "      <td>2</td>\n",
       "      <td>Denmark</td>\n",
       "      <td>78672.0</td>\n",
       "      <td>Bash/Shell;HTML/CSS;Java;JavaScript;Python;SQL...</td>\n",
       "      <td>12</td>\n",
       "      <td>1</td>\n",
       "    </tr>\n",
       "    <tr>\n",
       "      <th>3</th>\n",
       "      <td>42014</td>\n",
       "      <td>&lt;35</td>\n",
       "      <td>No</td>\n",
       "      <td>Undergraduate</td>\n",
       "      <td>1</td>\n",
       "      <td>Man</td>\n",
       "      <td>Yes</td>\n",
       "      <td>Dev</td>\n",
       "      <td>10</td>\n",
       "      <td>1</td>\n",
       "      <td>France</td>\n",
       "      <td>44790.0</td>\n",
       "      <td>Rust;Docker;Kubernetes;AWS;Google Cloud;MongoD...</td>\n",
       "      <td>7</td>\n",
       "      <td>0</td>\n",
       "    </tr>\n",
       "    <tr>\n",
       "      <th>4</th>\n",
       "      <td>26711</td>\n",
       "      <td>&gt;35</td>\n",
       "      <td>No</td>\n",
       "      <td>Master</td>\n",
       "      <td>0</td>\n",
       "      <td>Man</td>\n",
       "      <td>No</td>\n",
       "      <td>Dev</td>\n",
       "      <td>21</td>\n",
       "      <td>17</td>\n",
       "      <td>United Kingdom of Great Britain and Northern I...</td>\n",
       "      <td>155112.0</td>\n",
       "      <td>C#;HTML/CSS;JavaScript;Node.js;SQL;TypeScript;...</td>\n",
       "      <td>16</td>\n",
       "      <td>1</td>\n",
       "    </tr>\n",
       "  </tbody>\n",
       "</table>\n",
       "</div>"
      ],
      "text/plain": [
       "       w  Age Accessibility        EdLevel  Employment     Gender  \\\n",
       "0  35381  >35           Yes          Other           1        Man   \n",
       "1   1453  >35            No            PhD           0        Man   \n",
       "2  24572  <35            No         Master           1  NonBinary   \n",
       "3  42014  <35            No  Undergraduate           1        Man   \n",
       "4  26711  >35            No         Master           0        Man   \n",
       "\n",
       "  MentalHealth MainBranch  YearsCode  YearsCodePro  \\\n",
       "0          Yes     NotDev         35            15   \n",
       "1           No        Dev         35            30   \n",
       "2          Yes        Dev         18             2   \n",
       "3          Yes        Dev         10             1   \n",
       "4           No        Dev         21            17   \n",
       "\n",
       "                                             Country  PreviousSalary  \\\n",
       "0  United Kingdom of Great Britain and Northern I...         77556.0   \n",
       "1  United Kingdom of Great Britain and Northern I...        124092.0   \n",
       "2                                            Denmark         78672.0   \n",
       "3                                             France         44790.0   \n",
       "4  United Kingdom of Great Britain and Northern I...        155112.0   \n",
       "\n",
       "                                      HaveWorkedWith  ComputerSkills  Employed  \n",
       "0  C;C++;Go;PowerShell;Python;Ansible;Chef;Docker...              16         0  \n",
       "1  C#;HTML/CSS;LISP;ASP.NET Core ;jQuery;Microsof...               7         1  \n",
       "2  Bash/Shell;HTML/CSS;Java;JavaScript;Python;SQL...              12         1  \n",
       "3  Rust;Docker;Kubernetes;AWS;Google Cloud;MongoD...               7         0  \n",
       "4  C#;HTML/CSS;JavaScript;Node.js;SQL;TypeScript;...              16         1  "
      ]
     },
     "execution_count": 309,
     "metadata": {},
     "output_type": "execute_result"
    }
   ],
   "source": [
    "df_train.head()"
   ]
  },
  {
   "cell_type": "code",
   "execution_count": 310,
   "metadata": {},
   "outputs": [],
   "source": [
    "df_train.drop(['w'], axis=1, inplace=True)"
   ]
  },
  {
   "cell_type": "code",
   "execution_count": 311,
   "metadata": {},
   "outputs": [
    {
     "name": "stderr",
     "output_type": "stream",
     "text": [
      "C:\\Users\\Simon\\AppData\\Local\\Temp\\ipykernel_14040\\1276420888.py:2: FutureWarning: The default value of numeric_only in DataFrame.corr is deprecated. In a future version, it will default to False. Select only valid columns or specify the value of numeric_only to silence this warning.\n",
      "  df.corr()['Employed'].sort_values()\n"
     ]
    },
    {
     "data": {
      "text/plain": [
       "Employment       -0.010255\n",
       "YearsCode        -0.008982\n",
       "YearsCodePro     -0.001812\n",
       "PreviousSalary    0.002171\n",
       "ComputerSkills    0.586196\n",
       "Employed          1.000000\n",
       "Name: Employed, dtype: float64"
      ]
     },
     "execution_count": 311,
     "metadata": {},
     "output_type": "execute_result"
    }
   ],
   "source": [
    "#What correlates the most with \"employed\" column?\n",
    "df.corr()['Employed'].sort_values()"
   ]
  },
  {
   "cell_type": "markdown",
   "metadata": {},
   "source": [
    "# Random forest"
   ]
  },
  {
   "cell_type": "code",
   "execution_count": 312,
   "metadata": {},
   "outputs": [],
   "source": [
    "import pandas as pd\n",
    "from sklearn.ensemble import RandomForestClassifier\n",
    "from sklearn.metrics import accuracy_score, f1_score, precision_score, recall_score\n",
    "from sklearn.model_selection import train_test_split\n",
    "from sklearn.preprocessing import OneHotEncoder\n",
    "from sklearn.compose import ColumnTransformer\n",
    "from sklearn.pipeline import Pipeline"
   ]
  },
  {
   "cell_type": "code",
   "execution_count": 313,
   "metadata": {},
   "outputs": [],
   "source": [
    "# Step 1: Load your data\n",
    "train_df = pd.read_csv('Train.csv')\n",
    "test_df = pd.read_csv('Test.csv')"
   ]
  },
  {
   "cell_type": "code",
   "execution_count": 314,
   "metadata": {},
   "outputs": [],
   "source": [
    "# Step 1,5. We manually convert the age column to binary, as this is not caught by the one-hot encoder\n",
    "train_df['Age_over_35'] = train_df['Age'].apply(lambda x: 1 if x == '>35' else 0)\n",
    "test_df['Age_over_35'] = test_df['Age'].apply(lambda x: 1 if x == '>35' else 0)"
   ]
  },
  {
   "cell_type": "code",
   "execution_count": 315,
   "metadata": {},
   "outputs": [],
   "source": [
    "# Step 2: Identify categorical columns that need to be encoded\n",
    "categorical_cols = ['EdLevel', 'Gender', 'MainBranch']\n",
    "numerical_cols = ['YearsCode', 'YearsCodePro', 'PreviousSalary', 'ComputerSkills','Age_over_35']"
   ]
  },
  {
   "cell_type": "code",
   "execution_count": 316,
   "metadata": {},
   "outputs": [],
   "source": [
    "# Step 3: Create a ColumnTransformer to transform the categorical columns\n",
    "preprocessor = ColumnTransformer(\n",
    "    transformers=[\n",
    "        ('num', 'passthrough', numerical_cols),\n",
    "        ('cat', OneHotEncoder(), categorical_cols)\n",
    "    ])\n"
   ]
  },
  {
   "cell_type": "code",
   "execution_count": 317,
   "metadata": {},
   "outputs": [],
   "source": [
    "# Step 4: Create a pipeline that includes the preprocessor and the Random Forest model\n",
    "pipeline = Pipeline(steps=[\n",
    "    ('preprocessor', preprocessor),\n",
    "    ('classifier', RandomForestClassifier(n_estimators=100, random_state=42))\n",
    "])"
   ]
  },
  {
   "cell_type": "code",
   "execution_count": 318,
   "metadata": {},
   "outputs": [],
   "source": [
    "# Step 5: Separate features and target variable\n",
    "X_train = train_df.drop('Employed', axis=1)  \n",
    "X_train = train_df[categorical_cols + numerical_cols]\n",
    "y_train = train_df['Employed']\n",
    "X_test = test_df[categorical_cols + numerical_cols]\n",
    "y_test = test_df['Employed']"
   ]
  },
  {
   "cell_type": "code",
   "execution_count": 319,
   "metadata": {},
   "outputs": [],
   "source": [
    "# Step 6: Train the pipeline on the training data\n",
    "pipeline.fit(X_train, y_train)\n",
    "\n",
    "# Step 7: Make predictions on the test data\n",
    "y_pred = pipeline.predict(X_test)"
   ]
  },
  {
   "cell_type": "code",
   "execution_count": 320,
   "metadata": {},
   "outputs": [
    {
     "name": "stdout",
     "output_type": "stream",
     "text": [
      "Accuracy: 0.7577022550932438\n",
      "F1 Score: 0.7769050802139037\n",
      "Precision: 0.7656455862977603\n",
      "Recall: 0.7885006784260515\n"
     ]
    }
   ],
   "source": [
    "# Step 8: Evaluate the model\n",
    "accuracy = accuracy_score(y_test, y_pred)\n",
    "f1 = f1_score(y_test, y_pred, average='binary')  # Adjust based on your target variable\n",
    "precision = precision_score(y_test, y_pred, average='binary')\n",
    "recall = recall_score(y_test, y_pred, average='binary')\n",
    "\n",
    "# Print the evaluation metrics\n",
    "print(f\"Accuracy: {accuracy}\")\n",
    "print(f\"F1 Score: {f1}\")\n",
    "print(f\"Precision: {precision}\")\n",
    "print(f\"Recall: {recall}\")"
   ]
  },
  {
   "cell_type": "code",
   "execution_count": 321,
   "metadata": {},
   "outputs": [
    {
     "data": {
      "text/plain": [
       "\"\\n# Define the hyperparameters and their possible values\\nparam_grid = {\\n    'classifier__n_estimators': [50, 100, 200],\\n    'classifier__max_depth': [None, 10, 20],\\n    'classifier__min_samples_split': [2, 5, 10],\\n    'classifier__min_samples_leaf': [1, 2, 4]\\n}\\n\\n# Create a GridSearchCV object\\ngrid_search = GridSearchCV(pipeline, param_grid, cv=5, scoring='f1', n_jobs=-1)\\n\\n# Fit the grid search to your data\\ngrid_search.fit(X_train, y_train)\\n\\n# Get the best parameters and model\\nbest_params = grid_search.best_params_\\nbest_model = grid_search.best_estimator_\""
      ]
     },
     "execution_count": 321,
     "metadata": {},
     "output_type": "execute_result"
    }
   ],
   "source": [
    "from sklearn.model_selection import GridSearchCV\n",
    "from sklearn.ensemble import RandomForestClassifier\n",
    "from sklearn.pipeline import Pipeline\n",
    "from sklearn.compose import ColumnTransformer\n",
    "from sklearn.preprocessing import OneHotEncoder\n",
    "\n",
    "\"\"\"\n",
    "# Define the hyperparameters and their possible values\n",
    "param_grid = {\n",
    "    'classifier__n_estimators': [50, 100, 200],\n",
    "    'classifier__max_depth': [None, 10, 20],\n",
    "    'classifier__min_samples_split': [2, 5, 10],\n",
    "    'classifier__min_samples_leaf': [1, 2, 4]\n",
    "}\n",
    "\n",
    "# Create a GridSearchCV object\n",
    "grid_search = GridSearchCV(pipeline, param_grid, cv=5, scoring='f1', n_jobs=-1)\n",
    "\n",
    "# Fit the grid search to your data\n",
    "grid_search.fit(X_train, y_train)\n",
    "\n",
    "# Get the best parameters and model\n",
    "best_params = grid_search.best_params_\n",
    "best_model = grid_search.best_estimator_\"\"\""
   ]
  },
  {
   "cell_type": "code",
   "execution_count": 322,
   "metadata": {},
   "outputs": [
    {
     "data": {
      "text/plain": [
       "'#Print the best parameters and model\\nprint(f\"Best Parameters: {best_params}\")\\nprint(f\"Best Model: {best_model}\")'"
      ]
     },
     "execution_count": 322,
     "metadata": {},
     "output_type": "execute_result"
    }
   ],
   "source": [
    "\"\"\"#Print the best parameters and model\n",
    "print(f\"Best Parameters: {best_params}\")\n",
    "print(f\"Best Model: {best_model}\")\"\"\""
   ]
  },
  {
   "cell_type": "markdown",
   "metadata": {},
   "source": [
    "Output: Best Parameters: {'classifier__max_depth': 10, 'classifier__min_samples_leaf': 4, 'classifier__min_samples_split': 10, 'classifier__n_estimators': 100}\n",
    "Best Model: Pipeline(steps=[('preprocessor',\n",
    "                 ColumnTransformer(transformers=[('num', 'passthrough',\n",
    "                                                  ['YearsCode', 'YearsCodePro',\n",
    "                                                   'PreviousSalary',\n",
    "                                                   'ComputerSkills']),\n",
    "                                                 ('cat', OneHotEncoder(),\n",
    "                                                  ['Age', 'EdLevel', 'Gender',\n",
    "                                                   'MainBranch'])])),\n",
    "                ('classifier',\n",
    "                 RandomForestClassifier(max_depth=10, min_samples_leaf=4,\n",
    "                                        min_samples_split=10,\n",
    "                                        random_state=42))])"
   ]
  },
  {
   "cell_type": "markdown",
   "metadata": {},
   "source": [
    "### Tuned model"
   ]
  },
  {
   "cell_type": "code",
   "execution_count": 323,
   "metadata": {},
   "outputs": [
    {
     "name": "stdout",
     "output_type": "stream",
     "text": [
      "Accuracy: 0.7834293751985117\n",
      "F1 Score: 0.8025482976875026\n",
      "Precision: 0.7834585251595186\n",
      "Recall: 0.8225915875169606\n"
     ]
    }
   ],
   "source": [
    "# Step 4: Create a pipeline that includes the preprocessor and the Random Forest model\n",
    "pipeline = Pipeline(steps=[\n",
    "    ('preprocessor', preprocessor),\n",
    "    ('classifier', RandomForestClassifier(max_depth=10, min_samples_leaf=4, min_samples_split=10, n_estimators=100, random_state=42))\n",
    "])\n",
    "\n",
    "# Step 6: Train the pipeline on the training data\n",
    "pipeline.fit(X_train, y_train)\n",
    "\n",
    "# Step 7: Make predictions on the test data\n",
    "y_pred = pipeline.predict(X_test)\n",
    "\n",
    "# Step 8: Evaluate the model\n",
    "accuracy = accuracy_score(y_test, y_pred)\n",
    "f1 = f1_score(y_test, y_pred, average='binary') \n",
    "precision = precision_score(y_test, y_pred, average='binary')\n",
    "recall = recall_score(y_test, y_pred, average='binary')\n",
    "\n",
    "# Print the evaluation metrics\n",
    "print(f\"Accuracy: {accuracy}\")\n",
    "print(f\"F1 Score: {f1}\")\n",
    "print(f\"Precision: {precision}\")\n",
    "print(f\"Recall: {recall}\")"
   ]
  },
  {
   "cell_type": "markdown",
   "metadata": {},
   "source": [
    "#### Further tuned model"
   ]
  },
  {
   "cell_type": "code",
   "execution_count": 324,
   "metadata": {},
   "outputs": [
    {
     "data": {
      "text/plain": [
       "\"# Define the hyperparameters and their possible values\\nparam_grid = {\\n    'classifier__n_estimators': [85, 100, 115],\\n    'classifier__max_depth': [7, 10, 13],\\n    'classifier__min_samples_split': [10, 12, 15],\\n    'classifier__min_samples_leaf': [4, 6, 8]\\n}\\n\\n# Create a GridSearchCV object\\ngrid_search = GridSearchCV(pipeline, param_grid, cv=5, scoring='f1', n_jobs=-1)\\n\\n# Fit the grid search to your data\\ngrid_search.fit(X_train, y_train)\\n\\n# Get the best parameters and model\\nbest_params = grid_search.best_params_\\nbest_model = grid_search.best_estimator_\""
      ]
     },
     "execution_count": 324,
     "metadata": {},
     "output_type": "execute_result"
    }
   ],
   "source": [
    "\"\"\"# Define the hyperparameters and their possible values\n",
    "param_grid = {\n",
    "    'classifier__n_estimators': [85, 100, 115],\n",
    "    'classifier__max_depth': [7, 10, 13],\n",
    "    'classifier__min_samples_split': [10, 12, 15],\n",
    "    'classifier__min_samples_leaf': [4, 6, 8]\n",
    "}\n",
    "\n",
    "# Create a GridSearchCV object\n",
    "grid_search = GridSearchCV(pipeline, param_grid, cv=5, scoring='f1', n_jobs=-1)\n",
    "\n",
    "# Fit the grid search to your data\n",
    "grid_search.fit(X_train, y_train)\n",
    "\n",
    "# Get the best parameters and model\n",
    "best_params = grid_search.best_params_\n",
    "best_model = grid_search.best_estimator_\"\"\""
   ]
  },
  {
   "cell_type": "code",
   "execution_count": 325,
   "metadata": {},
   "outputs": [
    {
     "data": {
      "text/plain": [
       "'#Print the best parameters and model\\nprint(f\"Best Parameters: {best_params}\")\\nprint(f\"Best Model: {best_model}\")'"
      ]
     },
     "execution_count": 325,
     "metadata": {},
     "output_type": "execute_result"
    }
   ],
   "source": [
    "\"\"\"#Print the best parameters and model\n",
    "print(f\"Best Parameters: {best_params}\")\n",
    "print(f\"Best Model: {best_model}\")\"\"\""
   ]
  },
  {
   "cell_type": "code",
   "execution_count": 326,
   "metadata": {},
   "outputs": [
    {
     "name": "stdout",
     "output_type": "stream",
     "text": [
      "Accuracy: 0.7837923680747765\n",
      "F1 Score: 0.8030747613340496\n",
      "Precision: 0.7832325675130996\n",
      "Recall: 0.8239484396200815\n"
     ]
    }
   ],
   "source": [
    "# Step 4: Create a pipeline that includes the preprocessor and the Random Forest model\n",
    "pipeline = Pipeline(steps=[\n",
    "    ('preprocessor', preprocessor),\n",
    "    ('classifier', RandomForestClassifier(max_depth=13, min_samples_leaf=6, min_samples_split=15, n_estimators=115, random_state=42))\n",
    "])\n",
    "\n",
    "# Step 6: Train the pipeline on the training data\n",
    "pipeline.fit(X_train, y_train)\n",
    "\n",
    "# Step 7: Make predictions on the test data\n",
    "y_pred = pipeline.predict(X_test)\n",
    "\n",
    "# Step 8: Evaluate the model\n",
    "accuracy = accuracy_score(y_test, y_pred)\n",
    "f1 = f1_score(y_test, y_pred, average='binary') \n",
    "precision = precision_score(y_test, y_pred, average='binary')\n",
    "recall = recall_score(y_test, y_pred, average='binary')\n",
    "\n",
    "# Print the evaluation metrics\n",
    "print(f\"Accuracy: {accuracy}\")\n",
    "print(f\"F1 Score: {f1}\")\n",
    "print(f\"Precision: {precision}\")\n",
    "print(f\"Recall: {recall}\")"
   ]
  },
  {
   "cell_type": "code",
   "execution_count": 327,
   "metadata": {},
   "outputs": [],
   "source": [
    "# Define the hyperparameters and their possible values\n",
    "param_grid = {\n",
    "    'classifier__min_samples_split': [15, 30, 50]\n",
    "}\n",
    "\n",
    "# Create a GridSearchCV object\n",
    "grid_search = GridSearchCV(pipeline, param_grid, cv=5, scoring='f1', n_jobs=-1)\n",
    "\n",
    "# Fit the grid search to your data\n",
    "grid_search.fit(X_train, y_train)\n",
    "\n",
    "# Get the best parameters and model\n",
    "best_params = grid_search.best_params_\n",
    "best_model = grid_search.best_estimator_"
   ]
  },
  {
   "cell_type": "code",
   "execution_count": 328,
   "metadata": {},
   "outputs": [
    {
     "name": "stdout",
     "output_type": "stream",
     "text": [
      "Best Parameters: {'classifier__min_samples_split': 15}\n",
      "Best Model: Pipeline(steps=[('preprocessor',\n",
      "                 ColumnTransformer(transformers=[('num', 'passthrough',\n",
      "                                                  ['YearsCode', 'YearsCodePro',\n",
      "                                                   'PreviousSalary',\n",
      "                                                   'ComputerSkills',\n",
      "                                                   'Age_over_35']),\n",
      "                                                 ('cat', OneHotEncoder(),\n",
      "                                                  ['EdLevel', 'Gender',\n",
      "                                                   'MainBranch'])])),\n",
      "                ('classifier',\n",
      "                 RandomForestClassifier(max_depth=13, min_samples_leaf=6,\n",
      "                                        min_samples_split=15, n_estimators=115,\n",
      "                                        random_state=42))])\n"
     ]
    }
   ],
   "source": [
    "#Print the best parameters and model\n",
    "print(f\"Best Parameters: {best_params}\")\n",
    "print(f\"Best Model: {best_model}\")"
   ]
  },
  {
   "cell_type": "markdown",
   "metadata": {},
   "source": [
    "### Feature importance"
   ]
  },
  {
   "cell_type": "code",
   "execution_count": 329,
   "metadata": {},
   "outputs": [
    {
     "data": {
      "text/html": [
       "<div>\n",
       "<style scoped>\n",
       "    .dataframe tbody tr th:only-of-type {\n",
       "        vertical-align: middle;\n",
       "    }\n",
       "\n",
       "    .dataframe tbody tr th {\n",
       "        vertical-align: top;\n",
       "    }\n",
       "\n",
       "    .dataframe thead th {\n",
       "        text-align: right;\n",
       "    }\n",
       "</style>\n",
       "<table border=\"1\" class=\"dataframe\">\n",
       "  <thead>\n",
       "    <tr style=\"text-align: right;\">\n",
       "      <th></th>\n",
       "      <th>feature</th>\n",
       "      <th>importance</th>\n",
       "    </tr>\n",
       "  </thead>\n",
       "  <tbody>\n",
       "    <tr>\n",
       "      <th>3</th>\n",
       "      <td>ComputerSkills</td>\n",
       "      <td>0.870282</td>\n",
       "    </tr>\n",
       "    <tr>\n",
       "      <th>2</th>\n",
       "      <td>PreviousSalary</td>\n",
       "      <td>0.036305</td>\n",
       "    </tr>\n",
       "    <tr>\n",
       "      <th>0</th>\n",
       "      <td>YearsCode</td>\n",
       "      <td>0.023461</td>\n",
       "    </tr>\n",
       "    <tr>\n",
       "      <th>1</th>\n",
       "      <td>YearsCodePro</td>\n",
       "      <td>0.022077</td>\n",
       "    </tr>\n",
       "    <tr>\n",
       "      <th>8</th>\n",
       "      <td>EdLevel_PhD</td>\n",
       "      <td>0.010171</td>\n",
       "    </tr>\n",
       "    <tr>\n",
       "      <th>14</th>\n",
       "      <td>MainBranch_NotDev</td>\n",
       "      <td>0.009903</td>\n",
       "    </tr>\n",
       "    <tr>\n",
       "      <th>13</th>\n",
       "      <td>MainBranch_Dev</td>\n",
       "      <td>0.009533</td>\n",
       "    </tr>\n",
       "    <tr>\n",
       "      <th>5</th>\n",
       "      <td>EdLevel_Master</td>\n",
       "      <td>0.004910</td>\n",
       "    </tr>\n",
       "    <tr>\n",
       "      <th>9</th>\n",
       "      <td>EdLevel_Undergraduate</td>\n",
       "      <td>0.003190</td>\n",
       "    </tr>\n",
       "    <tr>\n",
       "      <th>4</th>\n",
       "      <td>Age_over_35</td>\n",
       "      <td>0.002900</td>\n",
       "    </tr>\n",
       "    <tr>\n",
       "      <th>7</th>\n",
       "      <td>EdLevel_Other</td>\n",
       "      <td>0.002162</td>\n",
       "    </tr>\n",
       "    <tr>\n",
       "      <th>12</th>\n",
       "      <td>Gender_Woman</td>\n",
       "      <td>0.001909</td>\n",
       "    </tr>\n",
       "    <tr>\n",
       "      <th>10</th>\n",
       "      <td>Gender_Man</td>\n",
       "      <td>0.001387</td>\n",
       "    </tr>\n",
       "    <tr>\n",
       "      <th>6</th>\n",
       "      <td>EdLevel_NoHigherEd</td>\n",
       "      <td>0.001170</td>\n",
       "    </tr>\n",
       "    <tr>\n",
       "      <th>11</th>\n",
       "      <td>Gender_NonBinary</td>\n",
       "      <td>0.000643</td>\n",
       "    </tr>\n",
       "  </tbody>\n",
       "</table>\n",
       "</div>"
      ],
      "text/plain": [
       "                  feature  importance\n",
       "3          ComputerSkills    0.870282\n",
       "2          PreviousSalary    0.036305\n",
       "0               YearsCode    0.023461\n",
       "1            YearsCodePro    0.022077\n",
       "8             EdLevel_PhD    0.010171\n",
       "14      MainBranch_NotDev    0.009903\n",
       "13         MainBranch_Dev    0.009533\n",
       "5          EdLevel_Master    0.004910\n",
       "9   EdLevel_Undergraduate    0.003190\n",
       "4             Age_over_35    0.002900\n",
       "7           EdLevel_Other    0.002162\n",
       "12           Gender_Woman    0.001909\n",
       "10             Gender_Man    0.001387\n",
       "6      EdLevel_NoHigherEd    0.001170\n",
       "11       Gender_NonBinary    0.000643"
      ]
     },
     "execution_count": 329,
     "metadata": {},
     "output_type": "execute_result"
    }
   ],
   "source": [
    "# Get feature importances from the classifier\n",
    "feature_importances = best_model.named_steps['classifier'].feature_importances_\n",
    "\n",
    "# Get feature names for categorical features from the preprocessor step of the pipeline\n",
    "# The OneHotEncoder step is named 'cat' in the ColumnTransformer\n",
    "# We use get_feature_names_out() to get the feature names and then convert to a list\n",
    "categorical_feature_names = best_model.named_steps['preprocessor'].named_transformers_['cat'].get_feature_names_out(categorical_cols).tolist()\n",
    "\n",
    "# The numerical feature names are used directly\n",
    "numerical_feature_names = numerical_cols  # This is already a list\n",
    "\n",
    "# Combine numerical and categorical feature names\n",
    "feature_names = numerical_feature_names + categorical_feature_names\n",
    "\n",
    "# Create a DataFrame to display feature importances\n",
    "feature_df = pd.DataFrame({'feature': feature_names, 'importance': feature_importances}).sort_values('importance', ascending=False)\n",
    "feature_df.head(16)\n"
   ]
  },
  {
   "cell_type": "markdown",
   "metadata": {},
   "source": [
    "### Visualization"
   ]
  },
  {
   "cell_type": "code",
   "execution_count": 330,
   "metadata": {},
   "outputs": [
    {
     "data": {
      "image/png": "[encoded data removed]",
      "text/plain": [
       "<Figure size 800x600 with 2 Axes>"
      ]
     },
     "metadata": {},
     "output_type": "display_data"
    }
   ],
   "source": [
    "import matplotlib.pyplot as plt\n",
    "import seaborn as sns\n",
    "from sklearn.metrics import confusion_matrix\n",
    "\n",
    "# Generate the confusion matrix\n",
    "cm = confusion_matrix(y_test, y_pred)  # Assuming y_test are your true labels and y_pred are your predictions\n",
    "\n",
    "# Create labels for the classes\n",
    "class_labels = ['Employed', 'Not employed']  # Replace with your actual class names/labels\n",
    "\n",
    "# Create a heatmap\n",
    "plt.figure(figsize=(8, 6))  # Can adjust the size as needed\n",
    "sns.heatmap(cm, annot=True, fmt='d', cmap='Blues', xticklabels=class_labels, yticklabels=class_labels)\n",
    "\n",
    "# Add labels and a title\n",
    "plt.ylabel('True Labels')\n",
    "plt.xlabel('Predicted Labels')\n",
    "plt.title('Confusion Matrix')\n",
    "\n",
    "# Show the plot\n",
    "plt.show()\n"
   ]
  },
  {
   "cell_type": "markdown",
   "metadata": {},
   "source": [
    "INKLUDER FAIRNESS OG INTERPETABILITY MEASURES OG OPSUMER ALLE MODELLER I EN TABEL."
   ]
  },
  {
   "cell_type": "code",
   "execution_count": 335,
   "metadata": {},
   "outputs": [],
   "source": [
    "import pandas as pd\n",
    "import numpy as np\n",
    "import matplotlib.pyplot as plt \n",
    "\n",
    "from sklearn.model_selection import train_test_split, GridSearchCV\n",
    "from sklearn.ensemble import RandomForestClassifier\n",
    "from sklearn.metrics import classification_report, roc_curve, auc\n",
    "# for fairness assessment\n",
    "from fairlearn.metrics import MetricFrame, true_positive_rate, false_positive_rate, selection_rate, equalized_odds_difference, demographic_parity_difference, selection_rate\n",
    "\n",
    "# for mitigation\n",
    "from fairlearn.postprocessing import ThresholdOptimizer, plot_threshold_optimizer"
   ]
  },
  {
   "cell_type": "code",
   "execution_count": null,
   "metadata": {},
   "outputs": [],
   "source": []
  },
  {
   "cell_type": "code",
   "execution_count": 338,
   "metadata": {},
   "outputs": [
    {
     "name": "stdout",
     "output_type": "stream",
     "text": [
      "              precision    recall  f1-score   support\n",
      "\n",
      "           0       0.78      0.74      0.76     10247\n",
      "           1       0.78      0.82      0.80     11792\n",
      "\n",
      "    accuracy                           0.78     22039\n",
      "   macro avg       0.78      0.78      0.78     22039\n",
      "weighted avg       0.78      0.78      0.78     22039\n",
      "\n"
     ]
    }
   ],
   "source": [
    "# Predict the outcomes using the best RandomForest model\n",
    "\n",
    "# Generate and display the classification report\n",
    "print(classification_report(y_test, y_pred))"
   ]
  },
  {
   "cell_type": "code",
   "execution_count": 339,
   "metadata": {},
   "outputs": [
    {
     "name": "stdout",
     "output_type": "stream",
     "text": [
      "              precision    recall  f1-score   support\n",
      "\n",
      "           0       0.78      0.74      0.76     10247\n",
      "           1       0.78      0.82      0.80     11792\n",
      "\n",
      "    accuracy                           0.78     22039\n",
      "   macro avg       0.78      0.78      0.78     22039\n",
      "weighted avg       0.78      0.78      0.78     22039\n",
      "\n"
     ]
    }
   ],
   "source": [
    "# Predict the outcomes using the best RandomForest model\n",
    "y_pred = pipeline.predict(X_test)\n",
    "\n",
    "# Generate and display the classification report\n",
    "print(classification_report(y_test, y_pred))"
   ]
  },
  {
   "cell_type": "code",
   "execution_count": 340,
   "metadata": {},
   "outputs": [
    {
     "data": {
      "image/png": "[encoded data removed]",
      "text/plain": [
       "<Figure size 800x600 with 1 Axes>"
      ]
     },
     "metadata": {},
     "output_type": "display_data"
    }
   ],
   "source": [
    "# Step 1: Compute the predicted probabilities for the positive class\n",
    "y_prob = pipeline.predict_proba(X_test)[:,1]\n",
    "\n",
    "# Step 2: Compute FPR, TPR, and thresholds\n",
    "fpr, tpr, thresholds = roc_curve(y_test, y_prob)\n",
    "\n",
    "# Step 3: Compute the AUC\n",
    "roc_auc = auc(fpr, tpr)\n",
    "\n",
    "# Step 4: Plot the ROC curve\n",
    "plt.figure(figsize=(8, 6))\n",
    "plt.plot(fpr, tpr, color='darkorange', lw=2, label='ROC curve (AUC = %0.2f)' % roc_auc)\n",
    "plt.plot([0, 1], [0, 1], color='navy', lw=2, linestyle='--') # diagonal line\n",
    "plt.xlim([0.0, 1.0])\n",
    "plt.ylim([0.0, 1.05])\n",
    "plt.xlabel('False Positive Rate')\n",
    "plt.ylabel('True Positive Rate')\n",
    "plt.title('Receiver Operating Characteristic (ROC) Curve')\n",
    "plt.legend(loc='lower right')\n",
    "plt.show()"
   ]
  },
  {
   "cell_type": "markdown",
   "metadata": {},
   "source": [
    "For at se fairness så ændr cutoff for at raten a true positive bliver den samme for to grupper. Derved kan du se unfairness hvis de ikke er det samme sted. "
   ]
  }
 ],
 "metadata": {
  "kernelspec": {
   "display_name": "Python 3",
   "language": "python",
   "name": "python3"
  },
  "language_info": {
   "codemirror_mode": {
    "name": "ipython",
    "version": 3
   },
   "file_extension": ".py",
   "mimetype": "text/x-python",
   "name": "python",
   "nbconvert_exporter": "python",
   "pygments_lexer": "ipython3",
   "version": "3.11.2"
  }
 },
 "nbformat": 4,
 "nbformat_minor": 2
}
